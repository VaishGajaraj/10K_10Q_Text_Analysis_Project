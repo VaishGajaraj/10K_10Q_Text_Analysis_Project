{
 "cells": [],
 "metadata": {
  "environment": {
   "name": "common-cpu.m50",
   "type": "gcloud",
   "uri": "gcr.io/deeplearning-platform-release/base-cpu:m50"
  }
 },
 "nbformat": 4,
 "nbformat_minor": 4
}
